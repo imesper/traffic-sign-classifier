{
 "cells": [
  {
   "cell_type": "markdown",
   "metadata": {},
   "source": [
    "# Self-Driving Car Engineer Nanodegree\n",
    "\n",
    "## Deep Learning\n",
    "\n",
    "## Project: Build a Traffic Sign Recognition Classifier\n",
    "\n",
    "In this notebook, a template is provided for you to implement your functionality in stages, which is required to successfully complete this project. If additional code is required that cannot be included in the notebook, be sure that the Python code is successfully imported and included in your submission if necessary. \n",
    "\n",
    "> **Note**: Once you have completed all of the code implementations, you need to finalize your work by exporting the iPython Notebook as an HTML document. Before exporting the notebook to html, all of the code cells need to have been run so that reviewers can see the final implementation and output. You can then export the notebook by using the menu above and navigating to  \\n\",\n",
    "    \"**File -> Download as -> HTML (.html)**. Include the finished document along with this notebook as your submission. \n",
    "\n",
    "In addition to implementing code, there is a writeup to complete. The writeup should be completed in a separate file, which can be either a markdown file or a pdf document. There is a [write up template](https://github.com/udacity/CarND-Traffic-Sign-Classifier-Project/blob/master/writeup_template.md) that can be used to guide the writing process. Completing the code template and writeup template will cover all of the [rubric points](https://review.udacity.com/#!/rubrics/481/view) for this project.\n",
    "\n",
    "The [rubric](https://review.udacity.com/#!/rubrics/481/view) contains \"Stand Out Suggestions\" for enhancing the project beyond the minimum requirements. The stand out suggestions are optional. If you decide to pursue the \"stand out suggestions\", you can include the code in this Ipython notebook and also discuss the results in the writeup file.\n",
    "\n",
    "\n",
    ">**Note:** Code and Markdown cells can be executed using the **Shift + Enter** keyboard shortcut. In addition, Markdown cells can be edited by typically double-clicking the cell to enter edit mode."
   ]
  },
  {
   "cell_type": "markdown",
   "metadata": {},
   "source": [
    "---\n",
    "## Step 0: Load The Data"
   ]
  },
  {
   "cell_type": "code",
   "execution_count": 1,
   "metadata": {},
   "outputs": [],
   "source": [
    "# Load pickled data\n",
    "import pickle\n",
    "\n",
    "# TODO: Fill this in based on where you saved the training and testing data\n",
    "\n",
    "training_file = 'data/train.p'\n",
    "validation_file= 'data/valid.p'\n",
    "testing_file = 'data/test.p'\n",
    "\n",
    "with open(training_file, mode='rb') as f:\n",
    "    train = pickle.load(f)\n",
    "with open(validation_file, mode='rb') as f:\n",
    "    valid = pickle.load(f)\n",
    "with open(testing_file, mode='rb') as f:\n",
    "    test = pickle.load(f)\n",
    "    \n",
    "X_train, y_train = train['features'], train['labels']\n",
    "X_valid, y_valid = valid['features'], valid['labels']\n",
    "X_test, y_test = test['features'], test['labels']"
   ]
  },
  {
   "cell_type": "markdown",
   "metadata": {},
   "source": [
    "---\n",
    "\n",
    "## Step 1: Dataset Summary & Exploration\n",
    "\n",
    "The pickled data is a dictionary with 4 key/value pairs:\n",
    "\n",
    "- `'features'` is a 4D array containing raw pixel data of the traffic sign images, (num examples, width, height, channels).\n",
    "- `'labels'` is a 1D array containing the label/class id of the traffic sign. The file `signnames.csv` contains id -> name mappings for each id.\n",
    "- `'sizes'` is a list containing tuples, (width, height) representing the original width and height the image.\n",
    "- `'coords'` is a list containing tuples, (x1, y1, x2, y2) representing coordinates of a bounding box around the sign in the image. **THESE COORDINATES ASSUME THE ORIGINAL IMAGE. THE PICKLED DATA CONTAINS RESIZED VERSIONS (32 by 32) OF THESE IMAGES**\n",
    "\n",
    "Complete the basic data summary below. Use python, numpy and/or pandas methods to calculate the data summary rather than hard coding the results. For example, the [pandas shape method](http://pandas.pydata.org/pandas-docs/stable/generated/pandas.DataFrame.shape.html) might be useful for calculating some of the summary results. "
   ]
  },
  {
   "cell_type": "markdown",
   "metadata": {},
   "source": [
    "### Provide a Basic Summary of the Data Set Using Python, Numpy and/or Pandas"
   ]
  },
  {
   "cell_type": "code",
   "execution_count": 2,
   "metadata": {},
   "outputs": [
    {
     "name": "stdout",
     "output_type": "stream",
     "text": [
      "Number of training examples = 34799\n",
      "Number of testing examples = 12630\n",
      "Number of Validation examples = 4410\n",
      "Image data shape = (32, 32, 3)\n",
      "Number of classes = 43\n"
     ]
    }
   ],
   "source": [
    "### Replace each question mark with the appropriate value. \n",
    "### Use python, pandas or numpy methods rather than hard coding the results\n",
    "\n",
    "image_witdh = len(X_train[0])\n",
    "image_height = len(X_train[0][0])\n",
    "image_channels = len(X_train[0][0][0])\n",
    "\n",
    "# TODO: Number of training examples\n",
    "n_train = len(X_train)\n",
    "\n",
    "# TODO: Number of validation examples\n",
    "n_validation = len(X_valid)\n",
    "\n",
    "# TODO: Number of testing examples.\n",
    "n_test = len(X_test)\n",
    "\n",
    "# TODO: What's the shape of an traffic sign image?\n",
    "image_shape = (image_height, image_witdh, image_channels)\n",
    "\n",
    "# TODO: How many unique classes/labels there are in the dataset.\n",
    "known = []\n",
    "n_classes = 0\n",
    "for label in y_train:\n",
    "    if label not in known:\n",
    "        n_classes += 1\n",
    "        known.append(label)\n",
    "\n",
    "print(\"Number of training examples =\", n_train)\n",
    "print(\"Number of testing examples =\", n_test)\n",
    "print(\"Number of Validation examples =\", n_validation)\n",
    "print(\"Image data shape =\", image_shape)\n",
    "print(\"Number of classes =\", n_classes)"
   ]
  },
  {
   "cell_type": "markdown",
   "metadata": {},
   "source": [
    "### Include an exploratory visualization of the dataset"
   ]
  },
  {
   "cell_type": "markdown",
   "metadata": {},
   "source": [
    "Visualize the German Traffic Signs Dataset using the pickled file(s). This is open ended, suggestions include: plotting traffic sign images, plotting the count of each sign, etc. \n",
    "\n",
    "The [Matplotlib](http://matplotlib.org/) [examples](http://matplotlib.org/examples/index.html) and [gallery](http://matplotlib.org/gallery.html) pages are a great resource for doing visualizations in Python.\n",
    "\n",
    "**NOTE:** It's recommended you start with something simple first. If you wish to do more, come back to it after you've completed the rest of the sections. It can be interesting to look at the distribution of classes in the training, validation and test set. Is the distribution the same? Are there more examples of some classes than others?"
   ]
  },
  {
   "cell_type": "code",
   "execution_count": 3,
   "metadata": {},
   "outputs": [
    {
     "data": {
      "text/plain": [
       "<matplotlib.image.AxesImage at 0x7f9eea54d978>"
      ]
     },
     "execution_count": 3,
     "metadata": {},
     "output_type": "execute_result"
    },
    {
     "data": {
      "image/png": "[encoded data removed]",
      "text/plain": [
       "<Figure size 72x72 with 1 Axes>"
      ]
     },
     "metadata": {},
     "output_type": "display_data"
    }
   ],
   "source": [
    "### Data exploration visualization code goes here.\n",
    "### Feel free to use as many code cells as needed.\n",
    "import matplotlib.pyplot as plt\n",
    "# Visualizations will be shown in the notebook.\n",
    "import random\n",
    "%matplotlib inline\n",
    "index = random.randint(0, n_train)\n",
    "image = X_train[index].squeeze()\n",
    "\n",
    "plt.figure(figsize=(1,1))\n",
    "plt.imshow(image)\n"
   ]
  },
  {
   "cell_type": "markdown",
   "metadata": {},
   "source": [
    "----\n",
    "\n",
    "## Step 2: Design and Test a Model Architecture\n",
    "\n",
    "Design and implement a deep learning model that learns to recognize traffic signs. Train and test your model on the [German Traffic Sign Dataset](http://benchmark.ini.rub.de/?section=gtsrb&subsection=dataset).\n",
    "\n",
    "The LeNet-5 implementation shown in the [classroom](https://classroom.udacity.com/nanodegrees/nd013/parts/fbf77062-5703-404e-b60c-95b78b2f3f9e/modules/6df7ae49-c61c-4bb2-a23e-6527e69209ec/lessons/601ae704-1035-4287-8b11-e2c2716217ad/concepts/d4aca031-508f-4e0b-b493-e7b706120f81) at the end of the CNN lesson is a solid starting point. You'll have to change the number of classes and possibly the preprocessing, but aside from that it's plug and play! \n",
    "\n",
    "With the LeNet-5 solution from the lecture, you should expect a validation set accuracy of about 0.89. To meet specifications, the validation set accuracy will need to be at least 0.93. It is possible to get an even higher accuracy, but 0.93 is the minimum for a successful project submission. \n",
    "\n",
    "There are various aspects to consider when thinking about this problem:\n",
    "\n",
    "- Neural network architecture (is the network over or underfitting?)\n",
    "- Play around preprocessing techniques (normalization, rgb to grayscale, etc)\n",
    "- Number of examples per label (some have more than others).\n",
    "- Generate fake data.\n",
    "\n",
    "Here is an example of a [published baseline model on this problem](http://yann.lecun.com/exdb/publis/pdf/sermanet-ijcnn-11.pdf). It's not required to be familiar with the approach used in the paper but, it's good practice to try to read papers like these."
   ]
  },
  {
   "cell_type": "markdown",
   "metadata": {},
   "source": [
    "### Pre-process the Data Set (normalization, grayscale, etc.)"
   ]
  },
  {
   "cell_type": "markdown",
   "metadata": {},
   "source": [
    "Minimally, the image data should be normalized so that the data has mean zero and equal variance. For image data, `(pixel - 128)/ 128` is a quick way to approximately normalize the data and can be used in this project. \n",
    "\n",
    "Other pre-processing steps are optional. You can try different techniques to see if it improves performance. \n",
    "\n",
    "Use the code cell (or multiple code cells, if necessary) to implement the first step of your project."
   ]
  },
  {
   "cell_type": "code",
   "execution_count": 4,
   "metadata": {},
   "outputs": [],
   "source": [
    "import collections\n",
    "import operator\n",
    "\n",
    "\n",
    "def normInverseDictProbability(data):\n",
    "    value_sum = sum(data.values())\n",
    "    max_value = max(data.values()) * 2\n",
    "    norm_data = {}\n",
    "    for i in range(len(data)):\n",
    "        norm_data[i] = (max_value - data[i]) / max_value\n",
    "    return norm_data\n",
    "\n",
    "\n",
    "def normalizeDictData(data):\n",
    "    value_sum = sum(data.values())\n",
    "    print(\"Sum: \", value_sum, data)\n",
    "    norm_data = {}\n",
    "    for i in range(len(data)):\n",
    "        print(data[i] / value_sum)\n",
    "        norm_data[i] = data[i] / value_sum\n",
    "\n",
    "    return norm_data\n",
    "\n",
    "\n",
    "def plotHistogram(label_data):\n",
    "    known = []\n",
    "    classes_counts = {}\n",
    "    classes = {}\n",
    "    n_classes = 0\n",
    "    for i, label in enumerate(label_data):\n",
    "        if label not in known:\n",
    "            n_classes += 1\n",
    "            known.append(label)\n",
    "            classes_counts[label] = 1\n",
    "            classes[label] = [i]\n",
    "        else:\n",
    "            classes_counts[label] += 1\n",
    "            classes[label].append(i)\n",
    "\n",
    "    classes_counts = collections.OrderedDict(sorted(classes_counts.items()))\n",
    "\n",
    "    plt.figure()\n",
    "    plt.bar(range(len(classes_counts)), list(\n",
    "        classes_counts.values()), align='center')\n",
    "    plt.xticks(range(len(classes_counts)), list(classes_counts.keys()))\n",
    "    plt.title(\"Data\")\n",
    "    plt.show()\n",
    "    return classes, classes_counts, n_classes"
   ]
  },
  {
   "cell_type": "code",
   "execution_count": 5,
   "metadata": {},
   "outputs": [],
   "source": [
    "\n",
    "from sklearn.utils import shuffle\n",
    "import numpy as np\n",
    "import cv2\n",
    "import random\n",
    "\n",
    "def generateAffineTransformedImage(image):\n",
    "    pt1 = random.randrange(0, 10)\n",
    "    pt2 = random.randrange(20, 30)\n",
    "    pt3 = random.randrange(0, 10)\n",
    "    pt1_2 = random.randrange(0, 10)\n",
    "    pt2_2 = random.randrange(0, 10)\n",
    "    pt3_2 = random.randrange(20, 30)\n",
    "\n",
    "    var = 3\n",
    "    pt1_var = random.randrange(-var, var)\n",
    "    pt2_var = random.randrange(-var, var)\n",
    "    pt3_var = random.randrange(-var, var)\n",
    "\n",
    "    pt1_2_var = random.randrange(-var, var)\n",
    "    pt2_2_var = random.randrange(-var, var)\n",
    "    pt3_2_var = random.randrange(-var, var)\n",
    "\n",
    "    pts1 = np.float32([[pt1, pt1_2], [pt2, pt2_2], [pt3, pt3_2]])\n",
    "    pts2 = np.float32([[pt1 + pt1_var, pt1_2 + pt1_2_var], [pt2 +\n",
    "                                                            pt2_var, pt2_2 + pt2_2_var], [pt3 + pt3_var, pt3_2+pt3_2_var]])\n",
    "    M = cv2.getAffineTransform(pts1, pts2)\n",
    "    dst = cv2.warpAffine(image, M, (image_shape[0], image_shape[1]))\n",
    "\n",
    "    return dst\n",
    "\n",
    "\n",
    "def generatePerspectiveTransformedImage(image):\n",
    "\n",
    "    pt1 = random.randrange(0, 32)\n",
    "    pt2 = random.randrange(0, 32)\n",
    "    pt3 = random.randrange(0, 32)\n",
    "    pt4 = random.randrange(0, 32)\n",
    "    pt1_2 = random.randrange(0, 32)\n",
    "    pt2_2 = random.randrange(0, 32)\n",
    "    pt3_2 = random.randrange(0, 32)\n",
    "    pt4_2 = random.randrange(0, 32)\n",
    "\n",
    "    var = 3\n",
    "    pt1_var = random.randrange(-var, var)\n",
    "    pt2_var = random.randrange(-var, var)\n",
    "    pt3_var = random.randrange(-var, var)\n",
    "    pt4_var = random.randrange(-var, var)\n",
    "    pt1_2_var = random.randrange(-var, var)\n",
    "    pt2_2_var = random.randrange(-var, var)\n",
    "    pt3_2_var = random.randrange(-var, var)\n",
    "    pt4_2_var = random.randrange(-var, var)\n",
    "    pts1 = np.float32([[pt1, pt1_2], [pt2, pt2_2], [pt3, pt3_2], [pt4, pt4_2]])\n",
    "    pts2 = np.float32([[pt1 + pt1_var, pt1_2 + pt1_2_var], [pt2 +\n",
    "                                                            pt2_var, pt2_2 + pt2_2_var], [pt3 + pt3_var, pt3_2+pt3_2_var], [pt4 + pt4_var, pt4_2 + pt4_2_var]])\n",
    "    print(pts1, pts2)\n",
    "    M = cv2.getPerspectiveTransform(pts1, pts2)\n",
    "    dst = cv2.warpPerspective(image, M, (image_shape[0], image_shape[1]))\n",
    "\n",
    "    return dst\n",
    "\n",
    "\n",
    "def generateRotatedImage(image):\n",
    "    degree = random.randrange(-20, 20)\n",
    "    M = cv2.getRotationMatrix2D(\n",
    "        (image_shape[0]/2, image_shape[1]/2), degree, 1)\n",
    "    dst = cv2.warpAffine(image, M, (image_shape[0], image_shape[1]), )\n",
    "    return dst\n"
   ]
  },
  {
   "cell_type": "code",
   "execution_count": 6,
   "metadata": {},
   "outputs": [
    {
     "data": {
      "image/png": "[encoded data removed]",
      "text/plain": [
       "<Figure size 432x288 with 1 Axes>"
      ]
     },
     "metadata": {},
     "output_type": "display_data"
    },
    {
     "data": {
      "image/png": "[encoded data removed]",
      "text/plain": [
       "<Figure size 432x288 with 1 Axes>"
      ]
     },
     "metadata": {},
     "output_type": "display_data"
    },
    {
     "data": {
      "image/png": "[encoded data removed]",
      "text/plain": [
       "<Figure size 432x288 with 1 Axes>"
      ]
     },
     "metadata": {},
     "output_type": "display_data"
    },
    {
     "name": "stdout",
     "output_type": "stream",
     "text": [
      "Augmented Data\n"
     ]
    },
    {
     "data": {
      "image/png": "[encoded data removed]",
      "text/plain": [
       "<Figure size 432x288 with 1 Axes>"
      ]
     },
     "metadata": {},
     "output_type": "display_data"
    },
    {
     "name": "stdout",
     "output_type": "stream",
     "text": [
      "Number of training examples = 64799\n",
      "Number of testing examples = 12630\n",
      "Image data shape = (32, 32, 3)\n",
      "Number of classes = 43\n"
     ]
    }
   ],
   "source": [
    "import os\n",
    "# Calculating the probability of each class to augment data\n",
    "train_list, train_classes, n_classes = plotHistogram(y_train)\n",
    "valid_list, valid_classes, valid_n_classes = plotHistogram(y_valid)\n",
    "plotHistogram(y_test)\n",
    "\n",
    "if not os.path.isfile('trainAugmented.p'):\n",
    "\n",
    "    inverse_train_prob = normInverseDictProbability(train_classes)\n",
    "    inverse_valid_prob = normInverseDictProbability(valid_classes)\n",
    "\n",
    "    # inverse_train_prob = inverseDictProbability(norm_train_classes)\n",
    "    # inverse_valid_prob = inverseDictProbability(norm_valid_classes)\n",
    "\n",
    "    print(\"Prob\", inverse_train_prob.values())\n",
    "    new_pop_rot = random.choices(\n",
    "        list(inverse_train_prob.keys()), inverse_train_prob.values(), k=15000)\n",
    "    new_pop_aff = random.choices(\n",
    "        list(inverse_train_prob.keys()), inverse_train_prob.values(), k=15000)\n",
    "    # print(\"New Pop\" , new_pop)\n",
    "\n",
    "    for i in new_pop_rot:\n",
    "        index = random.choice(train_list[i])\n",
    "        image = X_train[index]\n",
    "        new_image = generateRotatedImage(image)\n",
    "        X_train = np.append(X_train, [new_image], axis=0)\n",
    "        y_train = np.append(y_train, [i])\n",
    "\n",
    "    for i in new_pop_aff:\n",
    "        index = random.choice(train_list[i])\n",
    "        image = X_train[index]\n",
    "        new_image = generateAffineTransformedImage(image)\n",
    "        X_train = np.append(X_train, [new_image], axis=0)\n",
    "        y_train = np.append(y_train, [i])\n",
    "\n",
    "    train_data = {'features': X_train, 'labels': y_train}\n",
    "    pickle.dump(train_data, open(\"trainAugmented.p\", \"wb\"))\n",
    "\n",
    "else:\n",
    "    training_file = 'trainAugmented.p'\n",
    "    with open(training_file, mode='rb') as f:\n",
    "        train = pickle.load(f)\n",
    "    X_train, y_train = train['features'], train['labels']\n",
    "    \n",
    "n_train = len(X_train)\n",
    "print(\"Augmented Data\")\n",
    "train_list, train_classes, n_classes = plotHistogram(y_train)\n",
    "\n",
    "print(\"Number of training examples =\", n_train)\n",
    "print(\"Number of testing examples =\", n_test)\n",
    "print(\"Image data shape =\", image_shape)\n",
    "print(\"Number of classes =\", n_classes)"
   ]
  },
  {
   "cell_type": "code",
   "execution_count": 7,
   "metadata": {},
   "outputs": [],
   "source": [
    "### Preprocess the data here. It is required to normalize the data. Other preprocessing steps could include \n",
    "### converting to grayscale, etc.\n",
    "### Feel free to use as many code cells as needed.\n",
    "\n",
    "X_train_grey_clahe = np.zeros((n_train, image_shape[0],  image_shape[1]))\n",
    "X_train_grey_norm = np.zeros((n_train, image_shape[0],  image_shape[1]))\n",
    "clahe = cv2.createCLAHE(clipLimit=100.0, tileGridSize=(8, 8))\n",
    "for i in range(n_train):\n",
    "    X_train_grey_clahe[i] = clahe.apply(cv2.cvtColor(X_train[i], cv2.COLOR_RGB2GRAY))\n",
    "    X_train_grey_norm[i] = (X_train_grey_clahe[i] / 255.0 - 0.5).astype(np.float32)\n",
    "    \n",
    "X_train_grey_norm = X_train_grey_norm.reshape(n_train, image_shape[0], image_shape[0], 1)\n",
    "X_train = X_train_grey_norm\n",
    "\n",
    "X_valid_grey_clahe = np.zeros((n_validation, image_shape[0],  image_shape[1]))\n",
    "X_valid_grey_norm = np.zeros((n_validation, image_shape[0],  image_shape[1]))\n",
    "for i in range(n_validation):\n",
    "    X_valid_grey_clahe[i] = clahe.apply(cv2.cvtColor(X_valid[i], cv2.COLOR_RGB2GRAY))\n",
    "    X_valid_grey_norm[i] = (X_valid_grey_clahe[i] / 255.0 - 0.5).astype(np.float32)\n",
    "\n",
    "X_valid_grey_norm = X_valid_grey_norm.reshape(n_validation, image_shape[0], image_shape[0], 1)\n",
    "X_valid = X_valid_grey_norm\n",
    "\n",
    "image_shape = (image_shape[0], image_shape[1], 1)\n",
    "X_train, y_train = shuffle(X_train, y_train)\n"
   ]
  },
  {
   "cell_type": "markdown",
   "metadata": {},
   "source": [
    "### Model Architecture"
   ]
  },
  {
   "cell_type": "code",
   "execution_count": 8,
   "metadata": {},
   "outputs": [
    {
     "name": "stderr",
     "output_type": "stream",
     "text": [
      "/usr/lib/python3.6/site-packages/h5py/__init__.py:36: FutureWarning: Conversion of the second argument of issubdtype from `float` to `np.floating` is deprecated. In future, it will be treated as `np.float64 == np.dtype(float).type`.\n",
      "  from ._conv import register_converters as _register_converters\n"
     ]
    }
   ],
   "source": [
    "### Define your architecture here.\n",
    "### Feel free to use as many code cells as needed.\n",
    "import tensorflow as tf\n",
    "\n",
    "\n",
    "from tensorflow.contrib.layers import flatten\n",
    "\n",
    "def CDN2(x):\n",
    "    # Arguments used for tf.truncated_normal, randomly defines variables for the weights and biases for each layer\n",
    "    mu = 0\n",
    "    sigma = 0.1\n",
    "\n",
    "    # SOLUTION: Layer 1: Convolutional. Input = 32x32x1. Output = 28x28x32.\n",
    "    conv1_W = tf.Variable(tf.truncated_normal(\n",
    "        shape=(5, 5, image_shape[2], 32), mean=mu, stddev=sigma))\n",
    "    conv1_b = tf.Variable(tf.zeros(32))\n",
    "    conv1 = tf.nn.conv2d(x, conv1_W, strides=[\n",
    "                         1, 1, 1, 1], padding='VALID') + conv1_b\n",
    "\n",
    "    # SOLUTION: Activation.\n",
    "\n",
    "    conv1 = tf.nn.relu(conv1)\n",
    "    # conv1 = tf.nn.dropout(conv1, 0.5)\n",
    "    # SOLUTION: Pooling. Input = 28x28x32. Output = 14x14x32.\n",
    "    conv1 = tf.nn.max_pool(conv1, ksize=[1, 2, 2, 1], strides=[\n",
    "                           1, 2, 2, 1], padding='VALID')\n",
    "\n",
    "    # SOLUTION: Layer 2: Convolutional. Output = 10x10x64.\n",
    "    conv2_W = tf.Variable(tf.truncated_normal(\n",
    "        shape=(5, 5, 32, 64), mean=mu, stddev=sigma))\n",
    "    conv2_b = tf.Variable(tf.zeros(64))\n",
    "    conv2 = tf.nn.conv2d(conv1, conv2_W, strides=[\n",
    "                         1, 1, 1, 1], padding='VALID') + conv2_b\n",
    "\n",
    "    # SOLUTION: Activation.\n",
    "\n",
    "    conv2 = tf.nn.relu(conv2)\n",
    "    # conv2 = tf.nn.dropout(conv2, 0.5)\n",
    "    # SOLUTION: Pooling. Input = 10x10x64. Output = 5x5x64.\n",
    "    conv2 = tf.nn.max_pool(conv2, ksize=[1, 2, 2, 1], strides=[\n",
    "                           1, 2, 2, 1], padding='VALID')\n",
    "\n",
    "    # SOLUTION: Layer 3: Convolutional. Output = 5x5x128.\n",
    "    conv3_W = tf.Variable(tf.truncated_normal(\n",
    "        shape=(5, 5, 64, 128), mean=mu, stddev=sigma))\n",
    "    conv3_b = tf.Variable(tf.zeros(128))\n",
    "    conv3 = tf.nn.conv2d(conv2, conv3_W, strides=[\n",
    "                         1, 1, 1, 1], padding='SAME') + conv3_b\n",
    "\n",
    "    # SOLUTION: Activation.\n",
    "\n",
    "    conv3 = tf.nn.relu(conv3)\n",
    "    # conv3 = tf.nn.dropout(conv3, 0.5)\n",
    "    # SOLUTION: Pooling. Input = 5x5x128. Output = 3x3x128.\n",
    "    conv3 = tf.nn.max_pool(conv3, ksize=[1, 2, 2, 1], strides=[\n",
    "                           1, 2, 2, 1], padding='SAME')\n",
    "\n",
    "    # SOLUTION: Flatten. Input = (14*14*32)+(5*5*64)+(3*3*128). Output = 9024.\n",
    "    f1 = flatten(conv1)\n",
    "    f2 = flatten(conv2)\n",
    "    f3 = flatten(conv3)\n",
    "\n",
    "    fc0 = tf.concat([f1, f2, f3], 1)\n",
    "    # fc0 = f3\n",
    "    # SOLUTION:Fully Connected. Input = 9024. Output = 3000.\n",
    "    fc1_W = tf.Variable(tf.truncated_normal(\n",
    "        shape=(9024, 3000), mean=mu, stddev=sigma))\n",
    "    fc1_b = tf.Variable(tf.zeros(3000))\n",
    "    fc1 = tf.matmul(fc0, fc1_W) + fc1_b\n",
    "\n",
    "    # SOLUTION: Activation.\n",
    "    fc1 = tf.nn.dropout(fc1, 0.6)\n",
    "    fc1 = tf.nn.relu(fc1)\n",
    "\n",
    "    # SOLUTION: Fully Connected. Input = 3000. Output = 400.\n",
    "    fc1_1_W = tf.Variable(tf.truncated_normal(\n",
    "        shape=(3000, 400), mean=mu, stddev=sigma))\n",
    "    fc1_1_b = tf.Variable(tf.zeros(400))\n",
    "    fc1 = tf.matmul(fc1, fc1_1_W) + fc1_1_b\n",
    "\n",
    "    # SOLUTION: Activation.\n",
    "    fc1 = tf.nn.dropout(fc1, 0.6\n",
    "    )\n",
    "    fc1 = tf.nn.relu(fc1)\n",
    "\n",
    "    # SOLUTION: Fully Connected. Input = 400. Output = 120.\n",
    "    fc2_W = tf.Variable(tf.truncated_normal(\n",
    "        shape=(400, 120), mean=mu, stddev=sigma))\n",
    "    fc2_b = tf.Variable(tf.zeros(120))\n",
    "    fc2 = tf.matmul(fc1, fc2_W) + fc2_b\n",
    "\n",
    "    # SOLUTION: Activation.\n",
    "    fc2 = tf.nn.dropout(fc2, 0.8)\n",
    "    fc2 = tf.nn.relu(fc2)\n",
    "    # SOLUTION: Fully Connected. Input = 120. Output = 84.\n",
    "    fc3_W = tf.Variable(tf.truncated_normal(\n",
    "        shape=(120, 84), mean=mu, stddev=sigma))\n",
    "    fc3_b = tf.Variable(tf.zeros(84))\n",
    "    fc3 = tf.matmul(fc2, fc3_W) + fc3_b\n",
    "\n",
    "    # SOLUTION: Activation.\n",
    "    fc3 = tf.nn.dropout(fc3, 0.8)\n",
    "    fc3 = tf.nn.relu(fc3)\n",
    "\n",
    "    # SOLUTION: Layer 5: Fully Connected. Input = 84. Output = 43.\n",
    "    fc4_W = tf.Variable(tf.truncated_normal(\n",
    "        shape=(84, n_classes), mean=mu, stddev=sigma))\n",
    "    fc4_b = tf.Variable(tf.zeros(n_classes))\n",
    "    logits = tf.matmul(fc3, fc4_W) + fc4_b\n",
    "\n",
    "    return logits\n"
   ]
  },
  {
   "cell_type": "markdown",
   "metadata": {},
   "source": [
    "### Train, Validate and Test the Model"
   ]
  },
  {
   "cell_type": "markdown",
   "metadata": {},
   "source": [
    "A validation set can be used to assess how well the model is performing. A low accuracy on the training and validation\n",
    "sets imply underfitting. A high accuracy on the training set but low accuracy on the validation set implies overfitting."
   ]
  },
  {
   "cell_type": "code",
   "execution_count": 9,
   "metadata": {},
   "outputs": [],
   "source": [
    "### Train your model here.\n",
    "### Calculate and report the accuracy on the training and validation set.\n",
    "### Once a final model architecture is selected, \n",
    "### the accuracy on the test set should be calculated and reported as well.\n",
    "### Feel free to use as many code cells as needed.\n",
    "x = tf.placeholder(tf.float32, (None, image_shape[0], image_shape[1], image_shape[2]))\n",
    "y = tf.placeholder(tf.int32, (None))\n",
    "one_hot_y = tf.one_hot(y, n_classes)\n",
    "\n",
    "EPOCHS = 10\n",
    "BATCH_SIZE = 128\n",
    "rate = 0.001\n",
    "\n",
    "logits = CDN2(x)\n",
    "cross_entropy = tf.nn.softmax_cross_entropy_with_logits_v2(labels=one_hot_y, logits=logits)\n",
    "loss_operation = tf.reduce_mean(cross_entropy)\n",
    "optimizer = tf.train.AdamOptimizer(learning_rate = rate)\n",
    "training_operation = optimizer.minimize(loss_operation)\n",
    "\n",
    "correct_prediction = tf.equal(tf.argmax(logits, 1), tf.argmax(one_hot_y, 1))\n",
    "accuracy_operation = tf.reduce_mean(tf.cast(correct_prediction, tf.float32))\n",
    "saver = tf.train.Saver()\n",
    "\n",
    "def evaluate(X_data, y_data):\n",
    "    num_examples = len(X_data)\n",
    "    total_accuracy = 0\n",
    "    sess = tf.get_default_session()\n",
    "    for offset in range(0, num_examples, BATCH_SIZE):\n",
    "        batch_x, batch_y = X_data[offset:offset+BATCH_SIZE], y_data[offset:offset+BATCH_SIZE]\n",
    "        accuracy = sess.run(accuracy_operation, feed_dict={x: batch_x, y: batch_y})\n",
    "        total_accuracy += (accuracy * len(batch_x))\n",
    "    return total_accuracy / num_examples\n",
    "\n",
    "\n",
    "    "
   ]
  },
  {
   "cell_type": "code",
   "execution_count": 10,
   "metadata": {},
   "outputs": [
    {
     "name": "stdout",
     "output_type": "stream",
     "text": [
      "Training...\n",
      "\n",
      "EPOCH 1 ...\n",
      "Train Accuracy = 0.700\n",
      "Validation Accuracy = 0.770\n",
      "\n",
      "EPOCH 2 ...\n",
      "Train Accuracy = 0.912\n",
      "Validation Accuracy = 0.929\n",
      "\n",
      "EPOCH 3 ...\n",
      "Train Accuracy = 0.952\n",
      "Validation Accuracy = 0.952\n",
      "\n",
      "EPOCH 4 ...\n",
      "Train Accuracy = 0.971\n",
      "Validation Accuracy = 0.973\n",
      "\n",
      "EPOCH 5 ...\n",
      "Train Accuracy = 0.978\n",
      "Validation Accuracy = 0.967\n",
      "\n",
      "EPOCH 6 ...\n",
      "Train Accuracy = 0.986\n",
      "Validation Accuracy = 0.975\n",
      "\n",
      "EPOCH 7 ...\n",
      "Train Accuracy = 0.989\n",
      "Validation Accuracy = 0.980\n",
      "\n",
      "EPOCH 8 ...\n",
      "Train Accuracy = 0.989\n",
      "Validation Accuracy = 0.979\n",
      "\n",
      "EPOCH 9 ...\n",
      "Train Accuracy = 0.993\n",
      "Validation Accuracy = 0.981\n",
      "\n",
      "EPOCH 10 ...\n",
      "Train Accuracy = 0.992\n",
      "Validation Accuracy = 0.982\n",
      "\n",
      "Model saved\n"
     ]
    }
   ],
   "source": [
    "\n",
    "with tf.Session() as sess:\n",
    "    sess.run(tf.global_variables_initializer())\n",
    "    num_examples = len(X_train)\n",
    "    \n",
    "    print(\"Training...\")\n",
    "    print()\n",
    "    for i in range(EPOCHS):\n",
    "        X_train, y_train = shuffle(X_train, y_train)\n",
    "        for offset in range(0, num_examples, BATCH_SIZE):\n",
    "            end = offset + BATCH_SIZE\n",
    "            batch_x, batch_y = X_train[offset:end], y_train[offset:end]\n",
    "            sess.run(training_operation, feed_dict={x: batch_x, y: batch_y})\n",
    "            \n",
    "        validation_accuracy = evaluate(X_valid, y_valid)\n",
    "        train_accuracy = evaluate(X_train, y_train)\n",
    "        print(\"EPOCH {} ...\".format(i+1))\n",
    "        print(\"Train Accuracy = {:.3f}\".format(train_accuracy))\n",
    "        print(\"Validation Accuracy = {:.3f}\".format(validation_accuracy))\n",
    "        print()\n",
    "        \n",
    "    saver.save(sess, './trafficSignModel02')\n",
    "    print(\"Model saved\")"
   ]
  },
  {
   "cell_type": "code",
   "execution_count": 11,
   "metadata": {},
   "outputs": [
    {
     "name": "stdout",
     "output_type": "stream",
     "text": [
      "INFO:tensorflow:Restoring parameters from ./trafficSignModel02\n",
      "Test Accuracy = 0.968\n"
     ]
    }
   ],
   "source": [
    "testing_file = 'data/test.p'\n",
    "\n",
    "with open(testing_file, mode='rb') as f:\n",
    "    test = pickle.load(f)\n",
    "    \n",
    "X_test, y_test = test['features'], test['labels']\n",
    "n_text = len(X_test)\n",
    "\n",
    "#Preprocess test images\n",
    "clahe = cv2.createCLAHE(clipLimit=100.0, tileGridSize=(8, 8))\n",
    "image_shape = (image_height, image_witdh, image_channels)\n",
    "X_test_grey_clahe = np.zeros((n_test, image_shape[0],  image_shape[1]))\n",
    "X_test_grey_norm = np.zeros((n_test, image_shape[0],  image_shape[1]))\n",
    "\n",
    "for i in range(n_test):\n",
    "    X_test_grey_clahe[i] = clahe.apply(cv2.cvtColor(X_test[i], cv2.COLOR_RGB2GRAY))\n",
    "    X_test_grey_norm[i] = (X_test_grey_clahe[i] / 255.0 - 0.5).astype(np.float32)\n",
    "\n",
    "X_test_grey_norm = X_test_grey_norm.reshape(n_test, image_shape[0], image_shape[0], 1)\n",
    "X_test = X_test_grey_norm\n",
    "\n",
    "with tf.Session() as sess:\n",
    "    saver = tf.train.import_meta_graph('trafficSignModel02.meta')\n",
    "    saver.restore(sess, tf.train.latest_checkpoint('.'))\n",
    "#     [print(n.name) for n in tf.get_default_graph().get_operations()]\n",
    "    graph = tf.get_default_graph()\n",
    "    x = graph.get_tensor_by_name(\"Placeholder:0\")\n",
    "    y = graph.get_tensor_by_name(\"Placeholder_1:0\")\n",
    "    one_hot_y = graph.get_tensor_by_name(\"one_hot:0\")\n",
    "    op_to_restore = graph.get_tensor_by_name(\"Mean_1:0\")\n",
    "\n",
    "    test_accuracy = evaluate(X_test, y_test)\n",
    "    print(\"Test Accuracy = {:.3f}\".format(test_accuracy))\n"
   ]
  },
  {
   "cell_type": "markdown",
   "metadata": {},
   "source": [
    "---\n",
    "\n",
    "## Step 3: Test a Model on New Images\n",
    "\n",
    "To give yourself more insight into how your model is working, download at least five pictures of German traffic signs from the web and use your model to predict the traffic sign type.\n",
    "\n",
    "You may find `signnames.csv` useful as it contains mappings from the class id (integer) to the actual sign name."
   ]
  },
  {
   "cell_type": "markdown",
   "metadata": {},
   "source": [
    "### Load and Output the Images"
   ]
  },
  {
   "cell_type": "code",
   "execution_count": 12,
   "metadata": {},
   "outputs": [
    {
     "data": {
      "image/png": "[encoded data removed]",
      "text/plain": [
       "<Figure size 72x72 with 1 Axes>"
      ]
     },
     "metadata": {},
     "output_type": "display_data"
    },
    {
     "data": {
      "image/png": "[encoded data removed]",
      "text/plain": [
       "<Figure size 72x72 with 1 Axes>"
      ]
     },
     "metadata": {},
     "output_type": "display_data"
    },
    {
     "data": {
      "image/png": "[encoded data removed]",
      "text/plain": [
       "<Figure size 72x72 with 1 Axes>"
      ]
     },
     "metadata": {},
     "output_type": "display_data"
    },
    {
     "data": {
      "image/png": "[encoded data removed]",
      "text/plain": [
       "<Figure size 72x72 with 1 Axes>"
      ]
     },
     "metadata": {},
     "output_type": "display_data"
    },
    {
     "data": {
      "image/png": "[encoded data removed]",
      "text/plain": [
       "<Figure size 72x72 with 1 Axes>"
      ]
     },
     "metadata": {},
     "output_type": "display_data"
    }
   ],
   "source": [
    "### Load the images and plot them here.\n",
    "### Feel free to use as many code cells as needed.\n",
    "import matplotlib.image as mpimg\n",
    "import matplotlib.pyplot as plt\n",
    "import numpy as np\n",
    "import csv\n",
    "import cv2\n",
    "import os\n",
    "\n",
    "%matplotlib inline\n",
    "signs = {}\n",
    "images = []\n",
    "with open('./signnames.csv') as signnames:\n",
    "    reader = csv.reader(signnames, skipinitialspace=True)\n",
    "    for row in reader:\n",
    "        signs[int(row[0])] = row[1]\n",
    "\n",
    "for filename in os.listdir('Web'):\n",
    "\n",
    "    image = mpimg.imread('Web/'+filename)\n",
    "\n",
    "    image = cv2.resize(image, (32, 32), interpolation=cv2.INTER_AREA)\n",
    "\n",
    "    plt.figure(figsize=(1, 1))\n",
    "    plt.imshow(image)\n",
    "    clahe = cv2.createCLAHE(clipLimit=100.0, tileGridSize=(8, 8))\n",
    "\n",
    "    image_grey = cv2.cvtColor(image, cv2.COLOR_RGB2GRAY)\n",
    "    \n",
    "\n",
    "    image_grey_clahe = clahe.apply(image_grey)\n",
    "    \n",
    "    image_grey_norm = (image_grey_clahe / 255.0 - 0.5).astype(np.float32)\n",
    "    \n",
    "    image_grey_norm = np.reshape(image_grey_norm, (1, image_grey_norm.shape[0], image_grey_norm.shape[1], 1))\n",
    "    images.append(image_grey_norm)"
   ]
  },
  {
   "cell_type": "markdown",
   "metadata": {},
   "source": [
    "### Predict the Sign Type for Each Image"
   ]
  },
  {
   "cell_type": "code",
   "execution_count": 19,
   "metadata": {},
   "outputs": [
    {
     "name": "stdout",
     "output_type": "stream",
     "text": [
      "INFO:tensorflow:Restoring parameters from ./trafficSignModel02\n",
      "Speed limit (70km/h)\n",
      "INFO:tensorflow:Restoring parameters from ./trafficSignModel02\n",
      "Pedestrians\n",
      "INFO:tensorflow:Restoring parameters from ./trafficSignModel02\n",
      "Road work\n",
      "INFO:tensorflow:Restoring parameters from ./trafficSignModel02\n",
      "General caution\n",
      "INFO:tensorflow:Restoring parameters from ./trafficSignModel02\n",
      "Ahead only\n"
     ]
    }
   ],
   "source": [
    "### Run the predictions here and use the model to output the prediction for each image.\n",
    "### Make sure to pre-process the images with the same pre-processing pipeline used earlier.\n",
    "### Feel free to use as many code cells as needed.\n",
    "import tensorflow as tf\n",
    "results = []\n",
    "top5 = []\n",
    "tops = []\n",
    "for image in images:\n",
    "    with tf.Session() as sess:\n",
    "        saver = tf.train.import_meta_graph('trafficSignModel02.meta')\n",
    "        saver.restore(sess, tf.train.latest_checkpoint('.'))\n",
    "        \n",
    "        graph = tf.get_default_graph()\n",
    "        x = graph.get_tensor_by_name(\"Placeholder:0\")\n",
    "        y = graph.get_tensor_by_name(\"Placeholder_1:0\")\n",
    "        one_hot_y = graph.get_tensor_by_name(\"one_hot:0\")\n",
    "        \n",
    "        op_to_restore = graph.get_tensor_by_name(\n",
    "            \"add_7:0\")\n",
    "        res = sess.run(op_to_restore, feed_dict={\n",
    "            x: image, y: [27]})\n",
    "        \n",
    "        top5 = sess.run(tf.nn.top_k(tf.constant(res), k=5))\n",
    "        tops.append(top5)\n",
    "        results.append(signs[top5[1][0][0]])\n",
    "        print(signs[top5[1][0][0]])\n",
    "        \n",
    "       \n",
    "\n",
    "        # for i, classification in enumerate(res[0]):\n",
    "        # print(i, classification)\n",
    "        # print(res)\n",
    "        # print(np.unravel_index(np.argmax(res[0], axis=None), res[0].shape))\n"
   ]
  },
  {
   "cell_type": "markdown",
   "metadata": {},
   "source": [
    "### Analyze Performance"
   ]
  },
  {
   "cell_type": "code",
   "execution_count": 14,
   "metadata": {},
   "outputs": [
    {
     "name": "stdout",
     "output_type": "stream",
     "text": [
      "Accuracy: 100%\n"
     ]
    }
   ],
   "source": [
    "### Calculate the accuracy for these 5 new images. \n",
    "### For example, if the model predicted 1 out of 5 signs correctly, it's 20% accurate on these new images.\n",
    "signs_names = ['Speed limit (70km/h)', 'Pedestrians', 'Road work','General caution', 'Ahead only']\n",
    "correct = 0\n",
    "for i,res in enumerate(results):\n",
    "    if(res == signs_names[i]):\n",
    "        correct += 1\n",
    "print(\"Accuracy: \" + str(int(correct/5*100)) + \"%\")\n",
    "    "
   ]
  },
  {
   "cell_type": "markdown",
   "metadata": {},
   "source": [
    "### Output Top 5 Softmax Probabilities For Each Image Found on the Web"
   ]
  },
  {
   "cell_type": "markdown",
   "metadata": {},
   "source": [
    "For each of the new images, print out the model's softmax probabilities to show the **certainty** of the model's predictions (limit the output to the top 5 probabilities for each image). [`tf.nn.top_k`](https://www.tensorflow.org/versions/r0.12/api_docs/python/nn.html#top_k) could prove helpful here. \n",
    "\n",
    "The example below demonstrates how tf.nn.top_k can be used to find the top k predictions for each image.\n",
    "\n",
    "`tf.nn.top_k` will return the values and indices (class ids) of the top k predictions. So if k=3, for each sign, it'll return the 3 largest probabilities (out of a possible 43) and the correspoding class ids.\n",
    "\n",
    "Take this numpy array as an example. The values in the array represent predictions. The array contains softmax probabilities for five candidate images with six possible classes. `tf.nn.top_k` is used to choose the three classes with the highest probability:\n",
    "\n",
    "```\n",
    "# (5, 6) array\n",
    "a = np.array([[ 0.24879643,  0.07032244,  0.12641572,  0.34763842,  0.07893497,\n",
    "         0.12789202],\n",
    "       [ 0.28086119,  0.27569815,  0.08594638,  0.0178669 ,  0.18063401,\n",
    "         0.15899337],\n",
    "       [ 0.26076848,  0.23664738,  0.08020603,  0.07001922,  0.1134371 ,\n",
    "         0.23892179],\n",
    "       [ 0.11943333,  0.29198961,  0.02605103,  0.26234032,  0.1351348 ,\n",
    "         0.16505091],\n",
    "       [ 0.09561176,  0.34396535,  0.0643941 ,  0.16240774,  0.24206137,\n",
    "         0.09155967]])\n",
    "```\n",
    "\n",
    "Running it through `sess.run(tf.nn.top_k(tf.constant(a), k=3))` produces:\n",
    "\n",
    "```\n",
    "TopKV2(values=array([[ 0.34763842,  0.24879643,  0.12789202],\n",
    "       [ 0.28086119,  0.27569815,  0.18063401],\n",
    "       [ 0.26076848,  0.23892179,  0.23664738],\n",
    "       [ 0.29198961,  0.26234032,  0.16505091],\n",
    "       [ 0.34396535,  0.24206137,  0.16240774]]), indices=array([[3, 0, 5],\n",
    "       [0, 1, 4],\n",
    "       [0, 5, 1],\n",
    "       [1, 3, 5],\n",
    "       [1, 4, 3]], dtype=int32))\n",
    "```\n",
    "\n",
    "Looking just at the first row we get `[ 0.34763842,  0.24879643,  0.12789202]`, you can confirm these are the 3 largest probabilities in `a`. You'll also notice `[3, 0, 5]` are the corresponding indices."
   ]
  },
  {
   "cell_type": "code",
   "execution_count": 21,
   "metadata": {},
   "outputs": [
    {
     "name": "stdout",
     "output_type": "stream",
     "text": [
      "Speed limit (70km/h) [ 4  0  1  8 15] [0.36755636 0.1672712  0.167132   0.15353769 0.14450277]\n",
      "Pedestrians [27 26 24 22 28] [0.30931866 0.2133015  0.19082403 0.14329961 0.14325623]\n",
      "Road work [25 29 22 24 14] [0.41135165 0.20969748 0.20800371 0.12864663 0.04230047]\n",
      "General caution [18 26 27 32 22] [0.3491316  0.2236749  0.17059113 0.1292377  0.12736468]\n",
      "Ahead only [35 19  3 33 34] [0.49320123 0.14689738 0.13453919 0.1315758  0.09378643]\n"
     ]
    }
   ],
   "source": [
    "### Print out the top five softmax probabilities for the predictions on the German traffic sign images found on the web. \n",
    "### Feel free to use as many code cells as needed.\n",
    "\n",
    "for i, sign in enumerate(signs_names):\n",
    "    print(sign, tops[i][1][0], tops[i][0][0]/sum(tops[i][0][0]))\n",
    "    \n"
   ]
  },
  {
   "cell_type": "markdown",
   "metadata": {},
   "source": [
    "### Project Writeup\n",
    "\n",
    "Once you have completed the code implementation, document your results in a project writeup using this [template](https://github.com/udacity/CarND-Traffic-Sign-Classifier-Project/blob/master/writeup_template.md) as a guide. The writeup can be in a markdown or pdf file. "
   ]
  },
  {
   "cell_type": "markdown",
   "metadata": {},
   "source": [
    "> **Note**: Once you have completed all of the code implementations and successfully answered each question above, you may finalize your work by exporting the iPython Notebook as an HTML document. You can do this by using the menu above and navigating to  \\n\",\n",
    "    \"**File -> Download as -> HTML (.html)**. Include the finished document along with this notebook as your submission."
   ]
  },
  {
   "cell_type": "markdown",
   "metadata": {},
   "source": [
    "---\n",
    "\n",
    "## Step 4 (Optional): Visualize the Neural Network's State with Test Images\n",
    "\n",
    " This Section is not required to complete but acts as an additional excersise for understaning the output of a neural network's weights. While neural networks can be a great learning device they are often referred to as a black box. We can understand what the weights of a neural network look like better by plotting their feature maps. After successfully training your neural network you can see what it's feature maps look like by plotting the output of the network's weight layers in response to a test stimuli image. From these plotted feature maps, it's possible to see what characteristics of an image the network finds interesting. For a sign, maybe the inner network feature maps react with high activation to the sign's boundary outline or to the contrast in the sign's painted symbol.\n",
    "\n",
    " Provided for you below is the function code that allows you to get the visualization output of any tensorflow weight layer you want. The inputs to the function should be a stimuli image, one used during training or a new one you provided, and then the tensorflow variable name that represents the layer's state during the training process, for instance if you wanted to see what the [LeNet lab's](https://classroom.udacity.com/nanodegrees/nd013/parts/fbf77062-5703-404e-b60c-95b78b2f3f9e/modules/6df7ae49-c61c-4bb2-a23e-6527e69209ec/lessons/601ae704-1035-4287-8b11-e2c2716217ad/concepts/d4aca031-508f-4e0b-b493-e7b706120f81) feature maps looked like for it's second convolutional layer you could enter conv2 as the tf_activation variable.\n",
    "\n",
    "For an example of what feature map outputs look like, check out NVIDIA's results in their paper [End-to-End Deep Learning for Self-Driving Cars](https://devblogs.nvidia.com/parallelforall/deep-learning-self-driving-cars/) in the section Visualization of internal CNN State. NVIDIA was able to show that their network's inner weights had high activations to road boundary lines by comparing feature maps from an image with a clear path to one without. Try experimenting with a similar test to show that your trained network's weights are looking for interesting features, whether it's looking at differences in feature maps from images with or without a sign, or even what feature maps look like in a trained network vs a completely untrained one on the same sign image.\n",
    "\n",
    "<figure>\n",
    " <img src=\"visualize_cnn.png\" width=\"380\" alt=\"Combined Image\" />\n",
    " <figcaption>\n",
    " <p></p> \n",
    " <p style=\"text-align: center;\"> Your output should look something like this (above)</p> \n",
    " </figcaption>\n",
    "</figure>\n",
    " <p></p> \n"
   ]
  },
  {
   "cell_type": "code",
   "execution_count": null,
   "metadata": {
    "collapsed": true
   },
   "outputs": [],
   "source": [
    "### Visualize your network's feature maps here.\n",
    "### Feel free to use as many code cells as needed.\n",
    "\n",
    "# image_input: the test image being fed into the network to produce the feature maps\n",
    "# tf_activation: should be a tf variable name used during your training procedure that represents the calculated state of a specific weight layer\n",
    "# activation_min/max: can be used to view the activation contrast in more detail, by default matplot sets min and max to the actual min and max values of the output\n",
    "# plt_num: used to plot out multiple different weight feature map sets on the same block, just extend the plt number for each new feature map entry\n",
    "\n",
    "def outputFeatureMap(image_input, tf_activation, activation_min=-1, activation_max=-1 ,plt_num=1):\n",
    "    # Here make sure to preprocess your image_input in a way your network expects\n",
    "    # with size, normalization, ect if needed\n",
    "    # image_input =\n",
    "    # Note: x should be the same name as your network's tensorflow data placeholder variable\n",
    "    # If you get an error tf_activation is not defined it may be having trouble accessing the variable from inside a function\n",
    "    activation = tf_activation.eval(session=sess,feed_dict={x : image_input})\n",
    "    featuremaps = activation.shape[3]\n",
    "    plt.figure(plt_num, figsize=(15,15))\n",
    "    for featuremap in range(featuremaps):\n",
    "        plt.subplot(6,8, featuremap+1) # sets the number of feature maps to show on each row and column\n",
    "        plt.title('FeatureMap ' + str(featuremap)) # displays the feature map number\n",
    "        if activation_min != -1 & activation_max != -1:\n",
    "            plt.imshow(activation[0,:,:, featuremap], interpolation=\"nearest\", vmin =activation_min, vmax=activation_max, cmap=\"gray\")\n",
    "        elif activation_max != -1:\n",
    "            plt.imshow(activation[0,:,:, featuremap], interpolation=\"nearest\", vmax=activation_max, cmap=\"gray\")\n",
    "        elif activation_min !=-1:\n",
    "            plt.imshow(activation[0,:,:, featuremap], interpolation=\"nearest\", vmin=activation_min, cmap=\"gray\")\n",
    "        else:\n",
    "            plt.imshow(activation[0,:,:, featuremap], interpolation=\"nearest\", cmap=\"gray\")"
   ]
  }
 ],
 "metadata": {
  "anaconda-cloud": {},
  "kernelspec": {
   "display_name": "Python 3",
   "language": "python",
   "name": "python3"
  },
  "language_info": {
   "codemirror_mode": {
    "name": "ipython",
    "version": 3
   },
   "file_extension": ".py",
   "mimetype": "text/x-python",
   "name": "python",
   "nbconvert_exporter": "python",
   "pygments_lexer": "ipython3",
   "version": "3.6.5"
  }
 },
 "nbformat": 4,
 "nbformat_minor": 1
}
